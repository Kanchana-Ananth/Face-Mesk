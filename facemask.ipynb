{
 "cells": [
  {
   "cell_type": "code",
   "execution_count": 8,
   "metadata": {
    "executionInfo": {
     "elapsed": 2,
     "status": "ok",
     "timestamp": 1759856121504,
     "user": {
      "displayName": "Sivasri Anand",
      "userId": "13627679363473218098"
     },
     "user_tz": -330
    },
    "id": "rmdZ-BO69w3H"
   },
   "outputs": [],
   "source": [
    "from IPython.display import Javascript, display\n",
    "from google.colab.output import eval_js\n",
    "from base64 import b64decode\n",
    "import cv2\n",
    "import mediapipe as mp\n",
    "import numpy as np\n",
    "from PIL import Image\n",
    "import io"
   ]
  },
  {
   "cell_type": "code",
   "execution_count": 9,
   "metadata": {
    "executionInfo": {
     "elapsed": 6,
     "status": "ok",
     "timestamp": 1759856122447,
     "user": {
      "displayName": "Sivasri Anand",
      "userId": "13627679363473218098"
     },
     "user_tz": -330
    },
    "id": "xpUwIZOB-MWJ"
   },
   "outputs": [],
   "source": [
    "js = Javascript('''\n",
    "async function takePhoto() {\n",
    "  const div = document.createElement('div');\n",
    "  const video = document.createElement('video');\n",
    "  video.style.display = 'block';\n",
    "  const stream = await navigator.mediaDevices.getUserMedia({video: true});\n",
    "\n",
    "  document.body.appendChild(div);\n",
    "  div.appendChild(video);\n",
    "  video.srcObject = stream;\n",
    "  await video.play();\n",
    "\n",
    "  await new Promise((resolve) => {\n",
    "    const button = document.createElement('button');\n",
    "    button.textContent = 'Capture';\n",
    "    div.appendChild(button);\n",
    "    button.onclick = resolve;\n",
    "  });\n",
    "\n",
    "  const canvas = document.createElement('canvas');\n",
    "  canvas.width = video.videoWidth;\n",
    "  canvas.height = video.videoHeight;\n",
    "  canvas.getContext('2d').drawImage(video, 0, 0);\n",
    "\n",
    "  stream.getTracks().forEach(track => track.stop());\n",
    "  div.remove();\n",
    "\n",
    "  return canvas.toDataURL('image/png');\n",
    "}\n",
    "''')"
   ]
  },
  {
   "cell_type": "code",
   "execution_count": 10,
   "metadata": {
    "colab": {
     "base_uri": "https://localhost:8080/",
     "height": 17
    },
    "executionInfo": {
     "elapsed": 5302,
     "status": "ok",
     "timestamp": 1759856130519,
     "user": {
      "displayName": "Sivasri Anand",
      "userId": "13627679363473218098"
     },
     "user_tz": -330
    },
    "id": "AUJrxUwV-TfF",
    "outputId": "d256d28d-b3e6-4d00-9bf0-45daddc8d75b"
   },
   "outputs": [
    {
     "data": {
      "application/javascript": "\nasync function takePhoto() {\n  const div = document.createElement('div');\n  const video = document.createElement('video');\n  video.style.display = 'block';\n  const stream = await navigator.mediaDevices.getUserMedia({video: true});\n\n  document.body.appendChild(div);\n  div.appendChild(video);\n  video.srcObject = stream;\n  await video.play();\n\n  await new Promise((resolve) => {\n    const button = document.createElement('button');\n    button.textContent = 'Capture';\n    div.appendChild(button);\n    button.onclick = resolve;\n  });\n\n  const canvas = document.createElement('canvas');\n  canvas.width = video.videoWidth;\n  canvas.height = video.videoHeight;\n  canvas.getContext('2d').drawImage(video, 0, 0);\n\n  stream.getTracks().forEach(track => track.stop());\n  div.remove();\n\n  return canvas.toDataURL('image/png');\n}\n",
      "text/plain": [
       "<IPython.core.display.Javascript object>"
      ]
     },
     "metadata": {},
     "output_type": "display_data"
    }
   ],
   "source": [
    "display(js)\n",
    "data = eval_js('takePhoto()')\n",
    "binary = b64decode(data.split(',')[1])\n",
    "img = Image.open(io.BytesIO(binary))\n",
    "img_np = np.array(img)\n",
    "img_np = cv2.cvtColor(img_np, cv2.COLOR_RGB2BGR)"
   ]
  },
  {
   "cell_type": "code",
   "execution_count": 5,
   "metadata": {
    "executionInfo": {
     "elapsed": 130,
     "status": "ok",
     "timestamp": 1759856014453,
     "user": {
      "displayName": "Sivasri Anand",
      "userId": "13627679363473218098"
     },
     "user_tz": -330
    },
    "id": "x1xRzKop-eMx"
   },
   "outputs": [],
   "source": [
    "mp_face_mesh = mp.solutions.face_mesh\n",
    "mp_drawing = mp.solutions.drawing_utils\n",
    "mp_drawing_styles = mp.solutions.drawing_styles\n",
    "\n",
    "with mp_face_mesh.FaceMesh(\n",
    "    max_num_faces=1,\n",
    "    refine_landmarks=True,\n",
    "    min_detection_confidence=0.5,\n",
    "    min_tracking_confidence=0.5\n",
    ") as face_mesh:\n",
    "    results = face_mesh.process(cv2.cvtColor(img_np, cv2.COLOR_BGR2RGB))\n",
    "    if results.multi_face_landmarks:\n",
    "        for face_landmarks in results.multi_face_landmarks:\n",
    "            mp_drawing.draw_landmarks(\n",
    "                image=img_np,\n",
    "                landmark_list=face_landmarks,\n",
    "                connections=mp_face_mesh.FACEMESH_TESSELATION,\n",
    "                landmark_drawing_spec=None,\n",
    "                connection_drawing_spec=mp_drawing_styles.get_default_face_mesh_tesselation_style()\n",
    "            )\n",
    "            mp_drawing.draw_landmarks(\n",
    "                image=img_np,\n",
    "                landmark_list=face_landmarks,\n",
    "                connections=mp_face_mesh.FACEMESH_CONTOURS,\n",
    "                landmark_drawing_spec=None,\n",
    "                connection_drawing_spec=mp_drawing.DrawingSpec(color=(0,255,0), thickness=1)\n",
    "            )\n"
   ]
  }
 ],
 "metadata": {
  "colab": {
   "authorship_tag": "ABX9TyPf/apcD4UDSikWoBdqWPAC",
   "provenance": []
  },
  "kernelspec": {
   "display_name": "Python 3",
   "name": "python3"
  },
  "language_info": {
   "name": "python"
  }
 },
 "nbformat": 4,
 "nbformat_minor": 0
}
